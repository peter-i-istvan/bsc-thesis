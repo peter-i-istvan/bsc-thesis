{
 "cells": [
  {
   "cell_type": "code",
   "execution_count": 2,
   "metadata": {},
   "outputs": [
    {
     "name": "stdout",
     "output_type": "stream",
     "text": [
      "\n",
      "\u001b[1m[\u001b[0m\u001b[34;49mnotice\u001b[0m\u001b[1;39;49m]\u001b[0m\u001b[39;49m A new release of pip available: \u001b[0m\u001b[31;49m22.2.2\u001b[0m\u001b[39;49m -> \u001b[0m\u001b[32;49m22.3.1\u001b[0m\n",
      "\u001b[1m[\u001b[0m\u001b[34;49mnotice\u001b[0m\u001b[1;39;49m]\u001b[0m\u001b[39;49m To update, run: \u001b[0m\u001b[32;49mpip install --upgrade pip\u001b[0m\n",
      "Note: you may need to restart the kernel to use updated packages.\n"
     ]
    }
   ],
   "source": [
    "%pip install -q motmetrics"
   ]
  },
  {
   "cell_type": "code",
   "execution_count": 14,
   "metadata": {},
   "outputs": [
    {
     "data": {
      "image/png": "[encoded data removed]",
      "text/plain": [
       "<PIL.Image.Image image mode=RGB size=400x200>"
      ]
     },
     "execution_count": 14,
     "metadata": {},
     "output_type": "execute_result"
    }
   ],
   "source": [
    "import numpy as np\n",
    "from PIL import Image, ImageDraw\n",
    "\n",
    "ground_truth = np.array(            # x, y, w, h\n",
    "    [\n",
    "        [10, 10, 100, 100],\n",
    "        [120, 50, 200, 50]\n",
    "    ]\n",
    ")\n",
    "hypothesis = np.array(\n",
    "    [\n",
    "        [15, 20, 70, 90],\n",
    "        [100, 110, 200, 50]\n",
    "    ]\n",
    ")\n",
    "# draw GT and HYP on the image\n",
    "w, h = 400, 200\n",
    "img = Image.fromarray(np.ones(shape=(h, w, 3), dtype=np.uint8)*255)\n",
    "draw = ImageDraw.Draw(img)\n",
    "for gt in ground_truth:\n",
    "    ltrb  = *gt[:2], *(gt[:2] + gt[2:]) # left, top, right, bottom rectangle coordinates\n",
    "    draw.rectangle(ltrb, outline=(0,255,0))\n",
    "for hyp in hypothesis:\n",
    "    ltrb  = *hyp[:2], *(hyp[:2] + hyp[2:]) # left, top, right, bottom rectangle coordinates\n",
    "    draw.rectangle(ltrb, outline=(255,0,0))\n",
    "img "
   ]
  },
  {
   "cell_type": "code",
   "execution_count": 28,
   "metadata": {},
   "outputs": [
    {
     "data": {
      "text/plain": [
       "array([[0.37, 1.  ],\n",
       "       [1.  , 1.  ]])"
      ]
     },
     "execution_count": 28,
     "metadata": {},
     "output_type": "execute_result"
    }
   ],
   "source": [
    "import motmetrics as mm\n",
    "# the code below actually computes 1 - IoU, as for 'distance' metrics, smaller is better\n",
    "# in consequence, max_iou is 1 - iou_threshold\n",
    "mm.distances.iou_matrix(ground_truth, hypothesis)"
   ]
  }
 ],
 "metadata": {
  "kernelspec": {
   "display_name": "Python 3.10.8 ('venv': venv)",
   "language": "python",
   "name": "python3"
  },
  "language_info": {
   "codemirror_mode": {
    "name": "ipython",
    "version": 3
   },
   "file_extension": ".py",
   "mimetype": "text/x-python",
   "name": "python",
   "nbconvert_exporter": "python",
   "pygments_lexer": "ipython3",
   "version": "3.10.8"
  },
  "orig_nbformat": 4,
  "vscode": {
   "interpreter": {
    "hash": "5674a1ef993edbe309ed74f9671700b63b650f29b0ec9b4e4f28d2a3d523efb7"
   }
  }
 },
 "nbformat": 4,
 "nbformat_minor": 2
}
